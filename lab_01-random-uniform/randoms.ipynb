{
 "cells": [
  {
   "cell_type": "code",
   "id": "initial_id",
   "metadata": {
    "collapsed": true,
    "ExecuteTime": {
     "end_time": "2024-09-18T21:44:36.508414Z",
     "start_time": "2024-09-18T21:44:36.498815Z"
    }
   },
   "source": [
    "W_START: int = 5146\n",
    "N: int = 10000\n",
    "K_0: int = 13849\n",
    "K_1: int = 25173\n",
    "Q: int = 65536\n",
    "ALPHA: float = 0.05\n",
    "\n",
    "def linear_generator():\n",
    "    i = 0\n",
    "    w = W_START\n",
    "    while i < Q:\n",
    "        new_w = (K_1 * w + K_0) % Q\n",
    "        yield new_w/Q\n",
    "        w = new_w\n",
    "        if i + 1 < Q:\n",
    "            i += 1\n",
    "        else:\n",
    "            i = 0\n",
    "            \n",
    "gen = linear_generator()\n",
    "results = [next(gen) for _ in range(N)] "
   ],
   "outputs": [],
   "execution_count": 62
  },
  {
   "metadata": {
    "ExecuteTime": {
     "end_time": "2024-09-18T21:44:42.522396Z",
     "start_time": "2024-09-18T21:44:42.515978Z"
    }
   },
   "cell_type": "code",
   "source": [
    "import numpy as np\n",
    "from scipy.stats import chi2\n",
    "\n",
    "m = int(np.log2(N) + 1)\n",
    "observed_freq = {i: 0 for i in range(m)}\n",
    "for val in results:\n",
    "    idx = int(val * m)\n",
    "    observed_freq[idx] += 1\n",
    "    \n",
    "# print(observed_freq)\n",
    "expected_freq = len(results) / m\n",
    "\n",
    "x_2 = sum([(np.pow((observed_freq[j] - expected_freq), 2)) / expected_freq for j in range(m)])\n",
    "# print(x_2)\n",
    "\n",
    "x_cr = chi2.ppf(1-ALPHA, m-1)\n",
    "# print(x_cr)\n",
    "\n",
    "print(f\"Інтервалів: {m}\")\n",
    "print(f\"Статистика X^2: {x_2}\")\n",
    "print(f\"Ступенів свободи: {m-1}\")\n",
    "print(f\"Критичне знач. X^2 при alpha=={ALPHA}: {x_cr}\")\n",
    "if x_2 <= x_cr:\n",
    "    print(\"Розподіл рівномірний\")\n",
    "else:\n",
    "    print(\"Розподіл нерівномірний\")\n"
   ],
   "id": "e226d6f185ffe7ea",
   "outputs": [
    {
     "name": "stdout",
     "output_type": "stream",
     "text": [
      "Інтервалів: 14\n",
      "Статистика X^2: 7.7796\n",
      "Ступенів свободи: 13\n",
      "Критичне знач. X^2 при alpha==0.05: 22.362032494826938\n",
      "Розподіл рівномірний\n"
     ]
    }
   ],
   "execution_count": 63
  },
  {
   "metadata": {
    "ExecuteTime": {
     "end_time": "2024-09-18T21:44:51.656926Z",
     "start_time": "2024-09-18T21:44:51.595480Z"
    }
   },
   "cell_type": "code",
   "source": [
    "import matplotlib.pyplot as plt\n",
    "\n",
    "plt.hist(results, bins=m, color='skyblue', edgecolor='white')\n",
    "plt.xlabel('Інтервали')\n",
    "plt.ylabel('Частота')\n",
    "plt.axhline(N/m, color='orange')\n",
    "plt.show()"
   ],
   "id": "4c1954fb2e463e4a",
   "outputs": [
    {
     "data": {
      "text/plain": [
       "<Figure size 640x480 with 1 Axes>"
      ],
      "image/png": "[encoded data removed]"
     },
     "metadata": {},
     "output_type": "display_data"
    }
   ],
   "execution_count": 65
  }
 ],
 "metadata": {
  "kernelspec": {
   "display_name": "Python 3",
   "language": "python",
   "name": "python3"
  },
  "language_info": {
   "codemirror_mode": {
    "name": "ipython",
    "version": 2
   },
   "file_extension": ".py",
   "mimetype": "text/x-python",
   "name": "python",
   "nbconvert_exporter": "python",
   "pygments_lexer": "ipython2",
   "version": "2.7.6"
  }
 },
 "nbformat": 4,
 "nbformat_minor": 5
}
